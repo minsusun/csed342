{
 "cells": [
  {
   "cell_type": "code",
   "execution_count": 1,
   "metadata": {},
   "outputs": [],
   "source": [
    "import collections"
   ]
  },
  {
   "cell_type": "code",
   "execution_count": 2,
   "metadata": {},
   "outputs": [],
   "source": [
    "def dense2sparseVector(v):\n",
    "    \"\"\"\n",
    "    Given a dense vector |v|, return its sparse vector form,\n",
    "    represented as collection.defaultdict(float).\n",
    "    \n",
    "    For exapmle:\n",
    "    >>> dv = [0, 0, 1, 0, 3]\n",
    "    >>> dense2sparseVector(dv)\n",
    "    # defaultdict(<class 'float'>, {2: 1, 4: 3})\n",
    "    \n",
    "    You might find it useful to use enumerate().\n",
    "    \"\"\"\n",
    "    return collections.defaultdict(float,{i:e for i,e in enumerate(v) if e!=0})"
   ]
  },
  {
   "cell_type": "code",
   "execution_count": 3,
   "metadata": {},
   "outputs": [
    {
     "name": "stdout",
     "output_type": "stream",
     "text": [
      "defaultdict(<class 'float'>, {2: 1, 4: 3})\n"
     ]
    }
   ],
   "source": [
    "dv = [0, 0, 1, 0, 3]\n",
    "print(dense2sparseVector(dv))"
   ]
  },
  {
   "cell_type": "code",
   "execution_count": 17,
   "metadata": {},
   "outputs": [
    {
     "name": "stdout",
     "output_type": "stream",
     "text": [
      "2\n",
      "4\n"
     ]
    }
   ],
   "source": [
    "dv1 = [0, 0, 1, 2, 3]\n",
    "dv2 = [0, 1, 1, 0, 3]\n",
    "for e in set(dense2sparseVector(dv1)).intersection(set(dense2sparseVector(dv2))):\n",
    "    print(e)"
   ]
  },
  {
   "cell_type": "code",
   "execution_count": 8,
   "metadata": {},
   "outputs": [
    {
     "name": "stdout",
     "output_type": "stream",
     "text": [
      "4\n"
     ]
    }
   ],
   "source": [
    "print(max(dense2sparseVector(dv1)))"
   ]
  },
  {
   "cell_type": "code",
   "execution_count": 19,
   "metadata": {},
   "outputs": [
    {
     "name": "stdout",
     "output_type": "stream",
     "text": [
      "dict_keys([1])\n"
     ]
    }
   ],
   "source": [
    "print(collections.defaultdict(float,{1:0.0}).keys())"
   ]
  },
  {
   "cell_type": "code",
   "execution_count": 20,
   "metadata": {},
   "outputs": [],
   "source": [
    "def sparseVectorDotProduct(v1, v2):  # -> sparse vector product, dense vectoer product, dense sparse matmul\n",
    "    \"\"\"\n",
    "    Given two sparse vectors |v1| and |v2|, each represented as collection.defaultdict(float),\n",
    "    return their dot product.\n",
    "    You might find it useful to use sum() and a list comprehension.\n",
    "    This function will be useful later for linear classifiers.\n",
    "    \"\"\"\n",
    "    # BEGIN_YOUR_ANSWER (our solution is 1 lines of code, but don't worry if you deviate from this)\n",
    "    return sum([v1[i]*v2[i] for i in set(v1.keys()).intersection(v2.keys())])\n",
    "    # END_YOUR_ANSWER"
   ]
  },
  {
   "cell_type": "code",
   "execution_count": 21,
   "metadata": {},
   "outputs": [
    {
     "name": "stdout",
     "output_type": "stream",
     "text": [
      "10\n"
     ]
    }
   ],
   "source": [
    "print(sparseVectorDotProduct(dense2sparseVector(dv1),dense2sparseVector(dv2)))"
   ]
  },
  {
   "cell_type": "code",
   "execution_count": 23,
   "metadata": {},
   "outputs": [
    {
     "name": "stdout",
     "output_type": "stream",
     "text": [
      "ab\n"
     ]
    }
   ],
   "source": [
    "a=['ab','aa','cd']\n",
    "print(max(a,key=len))"
   ]
  },
  {
   "cell_type": "code",
   "execution_count": 26,
   "metadata": {},
   "outputs": [
    {
     "data": {
      "text/plain": [
       "'horse'"
      ]
     },
     "execution_count": 26,
     "metadata": {},
     "output_type": "execute_result"
    }
   ],
   "source": [
    "max(sorted(\"horsf cat dog horse panda\".split()),key=len)"
   ]
  },
  {
   "cell_type": "code",
   "execution_count": 27,
   "metadata": {},
   "outputs": [
    {
     "data": {
      "text/plain": [
       "list"
      ]
     },
     "execution_count": 27,
     "metadata": {},
     "output_type": "execute_result"
    }
   ],
   "source": [
    "type(\"hosresr \".split())"
   ]
  },
  {
   "cell_type": "code",
   "execution_count": null,
   "metadata": {},
   "outputs": [],
   "source": []
  }
 ],
 "metadata": {
  "kernelspec": {
   "display_name": "Python 3",
   "language": "python",
   "name": "python3"
  },
  "language_info": {
   "codemirror_mode": {
    "name": "ipython",
    "version": 3
   },
   "file_extension": ".py",
   "mimetype": "text/x-python",
   "name": "python",
   "nbconvert_exporter": "python",
   "pygments_lexer": "ipython3",
   "version": "3.9.6"
  },
  "orig_nbformat": 4,
  "vscode": {
   "interpreter": {
    "hash": "31f2aee4e71d21fbe5cf8b01ff0e069b9275f58929596ceb00d14d90e3e16cd6"
   }
  }
 },
 "nbformat": 4,
 "nbformat_minor": 2
}
